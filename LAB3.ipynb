{
 "cells": [
  {
   "cell_type": "markdown",
   "metadata": {
    "toc": true
   },
   "source": [
    "<h1>Table of Contents<span class=\"tocSkip\"></span></h1>\n",
    "<div class=\"toc\"><ul class=\"toc-item\"><li><span><a href=\"#Тема-3.-Функции\" data-toc-modified-id=\"Тема-3.-Функции-1\"><span class=\"toc-item-num\">1&nbsp;&nbsp;</span>Тема 3. Функции</a></span></li><li><span><a href=\"#Задания\" data-toc-modified-id=\"Задания-2\"><span class=\"toc-item-num\">2&nbsp;&nbsp;</span>Задания</a></span></li></ul></div>"
   ]
  },
  {
   "cell_type": "code",
   "execution_count": 10,
   "metadata": {},
   "outputs": [
    {
     "name": "stdout",
     "output_type": "stream",
     "text": [
      "[70, 79, 71, 62, 23, 91, 90, 27, 83, 15, 21, 17, 21, 11, 96, 60, 43, 58, 13, 45]\n",
      "[[70, 79, 71, 62, 23], [91, 90, 27, 83, 15], [21, 17, 21, 11, 96], [60, 43, 58, 13, 45]]\n"
     ]
    }
   ],
   "source": [
    "# 1. Имеется список из 20 случайных чисел от 0 до 100. \n",
    "# Напишите функцию, которая разбивает этот список на n списков по k элементов и включает все эти списки в новый список.\n",
    "# Используйте k в качестве параметра функции.\n",
    "\n",
    "from random import randint\n",
    "\n",
    "k = int(input(\"Введите количество элекментов, которые должны быть в списках\"))\n",
    "\n",
    "def razdel_spiska(list, k):\n",
    "    elem = len(list)\n",
    "    n = elem // k\n",
    "    res = []\n",
    "    for i in range(n):\n",
    "        start = i * k\n",
    "        end = (i + 1) * k\n",
    "        podlist = list[start:end]\n",
    "        res.append(podlist)\n",
    "    return res\n",
    "\n",
    "spisok = []\n",
    "\n",
    "for i in range(20):\n",
    "    spisok.append(randint(0, 100))\n",
    "print(spisok)\n",
    "res = razdel_spiska(spisok, k)\n",
    "print(res)"
   ]
  },
  {
   "cell_type": "code",
   "execution_count": 62,
   "metadata": {},
   "outputs": [
    {
     "data": {
      "text/plain": [
       "120"
      ]
     },
     "execution_count": 62,
     "metadata": {},
     "output_type": "execute_result"
    }
   ],
   "source": [
    "# 2. Напишите функцию, вычисляющую факториал числа, передаваемого в качестве параметра.\n",
    "\n",
    "def factorial(n):\n",
    "  fact =1\n",
    "  for i in range(2, n+1):\n",
    "    fact *= i\n",
    "\n",
    "  return fact\n",
    "\n",
    "factorial(5)"
   ]
  },
  {
   "cell_type": "code",
   "execution_count": 1,
   "metadata": {},
   "outputs": [
    {
     "name": "stdout",
     "output_type": "stream",
     "text": [
      "750\n",
      "3\n",
      "3850\n",
      "750\n",
      "3000\n"
     ]
    }
   ],
   "source": [
    "# 3. Написать функцию умножения, принимающую от одного до трех параметров. Функцию вызвать с приведенными ниже аргументами. Для случая a4 выбрать 3 первых и 3 последних значения.\n",
    "\n",
    "import math\n",
    "\n",
    "def umnog(a, b=1, c=1):\n",
    "    return a*b*c\n",
    "   \n",
    "a1 = (15,10,5)\n",
    "a2=(3,1)\n",
    "a3=[2,35,55]\n",
    "a4=(5,10,15,20)\n",
    "\n",
    "res1 = umnog(*a1)\n",
    "res2 = umnog(*a2)\n",
    "res3 = umnog(*a3)\n",
    "res4 = umnog(*a4[:3])\n",
    "res41 = umnog(*a4[-3:])\n",
    "\n",
    "print(res1)\n",
    "print(res2)\n",
    "print(res3)\n",
    "print(res4)\n",
    "print(res41)"
   ]
  },
  {
   "cell_type": "code",
   "execution_count": 39,
   "metadata": {},
   "outputs": [
    {
     "data": {
      "text/plain": [
       "[452.39, 75.4]"
      ]
     },
     "execution_count": 39,
     "metadata": {},
     "output_type": "execute_result"
    }
   ],
   "source": [
    "# 4. Напишите функцию, которая для заданного радиуса r вычисляет площадь круга и длину окружности. Функция возвращает кортеж из 2 значений.\n",
    "import math\n",
    "\n",
    "def ploshad_and_dlina(r):\n",
    "    list = [round(math.pi*(r**2),2), round(2*math.pi*r,2)]\n",
    "    return list\n",
    "\n",
    "radius = int(input(\"Введите радиус: \"))\n",
    "ploshad_and_dlina(radius)"
   ]
  },
  {
   "cell_type": "code",
   "execution_count": 21,
   "metadata": {},
   "outputs": [
    {
     "name": "stdout",
     "output_type": "stream",
     "text": [
      "29\n",
      "21\n",
      "100\n",
      "6\n"
     ]
    }
   ],
   "source": [
    "# 5. Реализовать функции для выполнения четырех арифметических операций, преобразующих целые числа в целое число.\n",
    "# Создать словарь с функциями исоответствующими им символами операций. Для двух заранее заданных целых чисел (например, 25 и 4) выполнить выбранную пользователем арифметическую операцию.\n",
    "\n",
    "slovar_function1 = {\n",
    "    \"multiplication\": lambda x, y: x*y,\n",
    "    \"plus\": lambda x,y: x+y,\n",
    "    \"minus\": lambda x,y: x-y,\n",
    "    \"division\": lambda x, y: x//y\n",
    "}\n",
    "\n",
    "def vypolnenie_deystviya(match, slovar, default = \"Невохможно выполнить\"):\n",
    "    if match in slovar:\n",
    "        return slovar[match]\n",
    "    return lambda *x: default\n",
    "\n",
    "plus = vypolnenie_deystviya('plus', slovar_function1)\n",
    "minus = vypolnenie_deystviya('minus', slovar_function1)\n",
    "umnogenie = vypolnenie_deystviya('multiplication', slovar_function1)\n",
    "delenie = vypolnenie_deystviya('division', slovar_function1)\n",
    "\n",
    "print(plus(25,4))\n",
    "print(minus(25,4))\n",
    "print(umnogenie(25,4))\n",
    "print(delenie(25,4))\n"
   ]
  },
  {
   "cell_type": "code",
   "execution_count": 1,
   "metadata": {},
   "outputs": [
    {
     "name": "stdout",
     "output_type": "stream",
     "text": [
      "21\n"
     ]
    }
   ],
   "source": [
    "# 6. Написать калькулятор для строковых выражений вида '<число> <операция> <число>',\n",
    "# где <число> - целое число, например 113, <арифметическая операция> - одна из операций `+,-,*,//,%,^`. Пример: `calc('13 - 5') -> 8`\n",
    "\n",
    "def calc(data):\n",
    "    try:\n",
    "        res = eval(data)\n",
    "        return res\n",
    "    except data as e:\n",
    "        return \"Неправильный формат\"\n",
    "    \n",
    "data = '25-4'\n",
    "result = calc(data) \n",
    "print(result) \n"
   ]
  },
  {
   "cell_type": "code",
   "execution_count": 2,
   "metadata": {},
   "outputs": [
    {
     "name": "stdout",
     "output_type": "stream",
     "text": [
      "33\n"
     ]
    }
   ],
   "source": [
    "# 7. Написать функцию, которая преобразует целое число (от 0 до 999) из текстового представления на русском языке в число типа int. Пример: `to_int('тридцать три') -> 33`\n",
    "\n",
    "def wordTOdigit(s):\n",
    "    d = 0\n",
    "    for i in s:\n",
    "        d+=s1[i]\n",
    "    return d\n",
    "\n",
    "\n",
    "s1 = {'один':1,\n",
    "      'два':2,\n",
    "      'три':3,\n",
    "      'четыре':4,\n",
    "      'пять':5,\n",
    "      'шесть':6,\n",
    "      'семь':7,\n",
    "      'восемь':8,\n",
    "      'девять':0,\n",
    "      'ноль':0,\n",
    "      'двадцать':20,\n",
    "      'тридцать':30,\n",
    "      'сорок':40,\n",
    "      'пятьдесят':50,\n",
    "      'шестьдесят':60,\n",
    "      'семьдесят':70,\n",
    "      'восемьдесят':80,\n",
    "      'девяносто':90,\n",
    "      'сто':100,\n",
    "      'двести':200,\n",
    "      'триста':300,\n",
    "      'четыреста':400,\n",
    "      'пятьсот':500,\n",
    "      'шестьсот':600,\n",
    "      'семьсот':700,\n",
    "      'восемьсот':800,\n",
    "      'девятьсот':900,\n",
    "      'десять':10,\n",
    "      'одиннадцать':11,\n",
    "      'двенадцать':12,\n",
    "      'тринадцать':13,\n",
    "      'четырнадцать':14,\n",
    "      'пятнадцать':15,\n",
    "      'шестнадцать':16,\n",
    "      'семнадцать':17,\n",
    "      'восемнадцать':18,\n",
    "      'девятнадцать':19}\n",
    "\n",
    "s = input().split(' ')\n",
    "#тридцать три\n",
    "#двадцать два\n",
    "#одиннадцать\n",
    "#пятьсот восемьдесят шесть\n",
    "\n",
    "\n",
    "print(wordTOdigit(s))"
   ]
  },
  {
   "cell_type": "code",
   "execution_count": 36,
   "metadata": {},
   "outputs": [
    {
     "name": "stdout",
     "output_type": "stream",
     "text": [
      "33\n",
      "тридцать - некорректное расположение в числе в строке: сто сорок тридцать два сто\n",
      "-1\n"
     ]
    }
   ],
   "source": [
    "# Написать функцию, которая преобразует целое число (от 0 до 999) из текстового представления на русском языке в число типа int.\n",
    "# И сообщает об ошибках (выводит на экран описание типа ошибки и возвращает число -1). \n",
    "# Пример: to_int('тридцать три') -> 33 Пример: to_int(\"сто сорок тридцать два сто\") -> -1 Вывод: тридцать - некорректное расположение в числе.\n",
    "\n",
    "s1 = {\n",
    "        'ноль': 0, 'один': 1, 'два': 2, 'три': 3, 'четыре': 4, 'пять': 5, 'шесть': 6, 'семь': 7, 'восемь': 8, 'девять': 9,\n",
    "        'десять': 10, 'одиннадцать': 11, 'двенадцать': 12, 'тринадцать': 13, 'четырнадцать': 14, 'пятнадцать': 15, \n",
    "        'шестнадцать': 16, 'семнадцать': 17, 'восемнадцать': 18, 'девятнадцать': 19,\n",
    "        'двадцать': 20, 'тридцать': 30, 'сорок': 40, 'пятьдесят': 50, 'шестьдесят': 60, 'семьдесят': 70, 'восемьдесят': 80, 'девяносто': 90,\n",
    "        'сто': 100, 'двести': 200, 'триста': 300, 'четыреста': 400, 'пятьсот': 500, 'шестьсот': 600, 'семьсот': 700, 'восемьсот': 800, 'девятьсот': 900\n",
    "    }\n",
    "\n",
    "def to_int(text_number):\n",
    "\n",
    "    words = text_number.split()\n",
    "    result = 0\n",
    "    current_number = 0\n",
    "    last_number = 0\n",
    "\n",
    "    for word in words:\n",
    "            if current_number >= s1[word]:\n",
    "                if last_number > current_number:\n",
    "                    print(f\"{word} - некорректное расположение в числе в строке: {number_text}\")\n",
    "                    return -1\n",
    "                last_number = current_number\n",
    "                current_number = s1[word]\n",
    "                result += current_number\n",
    "            else:\n",
    "                current_number = s1[word]\n",
    "                result += current_number\n",
    "\n",
    "    return result\n",
    "\n",
    "number_text = 'тридцать три'\n",
    "result = to_int(number_text)\n",
    "print(result)\n",
    "\n",
    "number_text = \"сто сорок тридцать два сто\"\n",
    "result = to_int(number_text)\n",
    "print(result)"
   ]
  },
  {
   "cell_type": "markdown",
   "metadata": {},
   "source": [
    "\n",
    "# Тема 3. Функции"
   ]
  },
  {
   "cell_type": "markdown",
   "metadata": {},
   "source": [
    "# Задания\n",
    "\n",
    "Выполните задания\n",
    "\n"
   ]
  },
  {
   "cell_type": "markdown",
   "metadata": {},
   "source": [
    "1. Имеется список из 20 случайных чисел от 0 до 100. Напишите функцию, которая разбивает этот список на $n$ списков по $k$ элементов и включает все эти списки в новый список. Используйте $k$ в качестве параметра функции.\n",
    "\n",
    "2. Напишите функцию, вычисляющую факториал числа, передаваемого в качестве параметра.\n",
    "\n",
    "3. Написать функцию умножения, принимающую от одного до трех параметров. Функцию вызвать с приведенными ниже аргументами. Для случая a4 выбрать 3 первых и 3 последних значения.\n",
    "```\n",
    "a1 = (15, 10 ,5)\n",
    "a2 = (3, 1)\n",
    "a3 = [2, 35, 55]\n",
    "a4 = (5, 10 ,15, 20)\n",
    "```\n",
    "\n",
    "4. Напишите функцию, которая для заданного радиуса r вычисляет площадь круга и длину окружности. Функция возвращает кортеж из 2 значений.\n",
    "\n",
    "5. Реализовать функции для выполнения четырех арифметических операций, преобразующих целые числа в целое число. Создать словарь с функциями исоответствующими им симв олами операций. Для двух заранее заданных целых чисел (например, 25 и 4) выполнить выбранную пользователем арифметическую операцию.\n",
    "\n",
    "6. Написать калькулятор для строковых выражений вида '<число> <операция> <число>', где <число> - целое число, например 113, <арифметическая операция> - одна из операций `+,-,*,//,%,^`. Пример: `calc('13 - 5') -> 8`\n",
    "\n",
    "7. Написать функцию, которая преобразует целое число (от 0 до 999) из текстового представления на русском языке в число типа int. Пример: `to_int('тридцать три') -> 33`\n",
    "\n",
    "8. Написать функцию, которая преобразует целое число (от 0 до 999) из текстового представления на русском языке в число типа int. И сообщает об ошибках (выводит на экран описание типа ошибки и возвращает число -1). Пример: to_int('тридцать три') -> 33 Пример: to_int(\"сто сорок тридцать два сто\") -> -1 Вывод: тридцать - некорректное расположение в числе."
   ]
  }
 ],
 "metadata": {
  "kernelspec": {
   "display_name": "Python 3 (ipykernel)",
   "language": "python",
   "name": "python3"
  },
  "language_info": {
   "codemirror_mode": {
    "name": "ipython",
    "version": 3
   },
   "file_extension": ".py",
   "mimetype": "text/x-python",
   "name": "python",
   "nbconvert_exporter": "python",
   "pygments_lexer": "ipython3",
   "version": "3.11.4"
  },
  "toc": {
   "base_numbering": 1,
   "nav_menu": {},
   "number_sections": true,
   "sideBar": true,
   "skip_h1_title": false,
   "title_cell": "Table of Contents",
   "title_sidebar": "Contents",
   "toc_cell": true,
   "toc_position": {},
   "toc_section_display": true,
   "toc_window_display": false
  },
  "varInspector": {
   "cols": {
    "lenName": 16,
    "lenType": 16,
    "lenVar": 40
   },
   "kernels_config": {
    "python": {
     "delete_cmd_postfix": "",
     "delete_cmd_prefix": "del ",
     "library": "var_list.py",
     "varRefreshCmd": "print(var_dic_list())"
    },
    "r": {
     "delete_cmd_postfix": ") ",
     "delete_cmd_prefix": "rm(",
     "library": "var_list.r",
     "varRefreshCmd": "cat(var_dic_list()) "
    }
   },
   "types_to_exclude": [
    "module",
    "function",
    "builtin_function_or_method",
    "instance",
    "_Feature"
   ],
   "window_display": false
  }
 },
 "nbformat": 4,
 "nbformat_minor": 4
}
