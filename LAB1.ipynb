{
 "cells": [
  {
   "cell_type": "markdown",
   "metadata": {
    "toc": true
   },
   "source": [
    "<h1>Table of Contents<span class=\"tocSkip\"></span></h1>\n",
    "<div class=\"toc\"><ul class=\"toc-item\"><li><span><a href=\"#Тема-1.-Введение-в-программирование-на-языке-Python\" data-toc-modified-id=\"Тема-1.-Введение-в-программирование-на-языке-Python-1\"><span class=\"toc-item-num\">1&nbsp;&nbsp;</span>Тема 1. Введение в программирование на языке Python</a></span></li><li><span><a href=\"#Задания\" data-toc-modified-id=\"Задания-2\"><span class=\"toc-item-num\">2&nbsp;&nbsp;</span>Задания</a></span></li><li><span><a href=\"#1.-Числовые-и-строковые-типы-данных-языка-Python.-Управляющие-конструкции.\" data-toc-modified-id=\"1.-Числовые-и-строковые-типы-данных-языка-Python.-Управляющие-конструкции.-3\"><span class=\"toc-item-num\">3&nbsp;&nbsp;</span>1. Числовые и строковые типы данных языка Python. Управляющие конструкции.</a></span><ul class=\"toc-item\"><li><span><a href=\"#1.1.-Работа-с-числами.-Базовые-числовые-типы-int-и-float\" data-toc-modified-id=\"1.1.-Работа-с-числами.-Базовые-числовые-типы-int-и-float-3.1\"><span class=\"toc-item-num\">3.1&nbsp;&nbsp;</span>1.1. Работа с числами. Базовые числовые типы int и float</a></span></li><li><span><a href=\"#1.2.-Строки,-функции-и-методы-работы-со-строками\" data-toc-modified-id=\"1.2.-Строки,-функции-и-методы-работы-со-строками-3.2\"><span class=\"toc-item-num\">3.2&nbsp;&nbsp;</span>1.2. Строки, функции и методы работы со строками</a></span></li></ul></li></ul></div>"
   ]
  },
  {
   "cell_type": "markdown",
   "metadata": {},
   "source": [
    "\n",
    "# Тема 1. Введение в программирование на языке Python"
   ]
  },
  {
   "cell_type": "code",
   "execution_count": 1,
   "metadata": {},
   "outputs": [
    {
     "name": "stdout",
     "output_type": "stream",
     "text": [
      "your a is: 5, your b is: 7\n",
      "changed a is: 7, changed b is: 5\n"
     ]
    }
   ],
   "source": [
    "#1 задание\n",
    "a = (int(input(\"Enter a: \")))\n",
    "b = (int(input(\"Enter b: \")))\n",
    "print(f\"your a is: {a}, your b is: {b}\")\n",
    "a,b=b,a\n",
    "print(f\"changed a is: {a}, changed b is: {b}\")"
   ]
  },
  {
   "cell_type": "code",
   "execution_count": 11,
   "metadata": {},
   "outputs": [
    {
     "name": "stdout",
     "output_type": "stream",
     "text": [
      "84.664\n"
     ]
    }
   ],
   "source": [
    "#2 задание\n",
    "import math\n",
    "x = (int(input(\"enter x: \")))\n",
    "y=round(pow(x+1, 2)*pow((pow(x,3)+1) ,0.5), 3)\n",
    "print(y)"
   ]
  },
  {
   "cell_type": "code",
   "execution_count": 14,
   "metadata": {},
   "outputs": [
    {
     "name": "stdout",
     "output_type": "stream",
     "text": [
      "sum = 15\n"
     ]
    }
   ],
   "source": [
    "#3 задание\n",
    "chislo = int(input(\"enter: \"))\n",
    "sum = 0 \n",
    "for number in chislo:\n",
    "    sum+=int(number)\n",
    "\n",
    "print(f\"Сумма цифр {x} = {sum}\")"
   ]
  },
  {
   "cell_type": "code",
   "execution_count": 19,
   "metadata": {},
   "outputs": [
    {
     "name": "stdout",
     "output_type": "stream",
     "text": [
      "\"reverse: 543\n"
     ]
    }
   ],
   "source": [
    "#4 задание\n",
    "chislo1 = int(input(\"enter chislo: \"))\n",
    "digit = chislo1 % 10\n",
    "chislo2 = digit\n",
    "chislo1 = chislo1 // 10\n",
    " \n",
    "while chislo1 > 0:\n",
    "    digit = chislo1 % 10\n",
    "    chislo1 = chislo1 // 10\n",
    "    chislo2 = chislo2 * 10\n",
    "    chislo2 += digit\n",
    " \n",
    "print('reverse:', chislo2)"
   ]
  },
  {
   "cell_type": "code",
   "execution_count": 24,
   "metadata": {},
   "outputs": [
    {
     "name": "stdout",
     "output_type": "stream",
     "text": [
      "2.82843\n"
     ]
    }
   ],
   "source": [
    "#5 задание\n",
    "import math\n",
    "coord1 = [1, 2]\n",
    "coord2= [3, 4]\n",
    "res = math.hypot(coord2[0]-coord1[0], coord2[1]-coord1[1])\n",
    "print(round(res,5))"
   ]
  },
  {
   "cell_type": "code",
   "execution_count": 29,
   "metadata": {},
   "outputs": [
    {
     "name": "stdout",
     "output_type": "stream",
     "text": [
      "12.566\n"
     ]
    }
   ],
   "source": [
    "#6 задание\n",
    "import math\n",
    "radius = int(input(\"enter radius: \"))\n",
    "ploshad = math.pi*pow(radius, 2)\n",
    "print(round(ploshad, 3))"
   ]
  },
  {
   "cell_type": "code",
   "execution_count": 31,
   "metadata": {},
   "outputs": [
    {
     "name": "stdout",
     "output_type": "stream",
     "text": [
      "18.85\n"
     ]
    }
   ],
   "source": [
    "#7 задание\n",
    "import math\n",
    "vnutRadius = int(input(\"enter vnutrenniy radius: \"))\n",
    "vneshRadius = int(input(\"enter vneshniy radius: \"))\n",
    "ploshadRing = math.pi*(vneshRadius - vnutRadius)\n",
    "print(round(ploshadRing,2))"
   ]
  },
  {
   "cell_type": "code",
   "execution_count": 32,
   "metadata": {},
   "outputs": [
    {
     "name": "stdout",
     "output_type": "stream",
     "text": [
      "radius: 7.639437268410976, S: 183.34649444186343\n"
     ]
    }
   ],
   "source": [
    "#8 задание\n",
    "dlinaOkrugnosty = int(input(\"enter dlinu: \"))\n",
    "radius = dlinaOkrugnosty/math.pi*2\n",
    "ploshad = math.pi*pow(radius, 2)\n",
    "print(f\"radius: {radius}, S: {ploshad}\")"
   ]
  },
  {
   "cell_type": "code",
   "execution_count": 35,
   "metadata": {},
   "outputs": [
    {
     "name": "stdout",
     "output_type": "stream",
     "text": [
      "obyem po radiusu: 268.082573106329, obyem po dline: 26113.679768344013\n"
     ]
    }
   ],
   "source": [
    "#9 задание\n",
    "radius = int(input(\"enter radius: \"))\n",
    "dlina = math.pi*(radius*2)\n",
    "obyem = (4/3)*math.pi*pow(radius, 3)\n",
    "obyemPoDline = pow(dlina, 3)/6*pow(math.pi, 2)\n",
    "print(f\"obyem po radiusu: {obyem}, obyem po dline: {obyemPoDline}\")"
   ]
  },
  {
   "cell_type": "code",
   "execution_count": 8,
   "metadata": {},
   "outputs": [
    {
     "name": "stdout",
     "output_type": "stream",
     "text": [
      "Наиболее близкие точки: (71, 73)\n",
      "Минимальное расстояние: 2.0\n"
     ]
    }
   ],
   "source": [
    "import numpy as np\n",
    "\n",
    "def euclidean_distance(point1, point2):\n",
    "    return np.sqrt(np.sum((point1 - point2)**2))\n",
    "\n",
    "def find_closest_points(x, y):\n",
    "    min_distance = float('inf')\n",
    "    closest_points = None\n",
    "\n",
    "    for point_x in x:\n",
    "        for point_y in y:\n",
    "            distance = euclidean_distance(point_x, point_y)\n",
    "            if distance < min_distance:\n",
    "                min_distance = distance\n",
    "                closest_points = (point_x, point_y)\n",
    "\n",
    "    return closest_points, min_distance\n",
    "\n",
    "\n",
    "n = (int(input(\"enter razmernost` vectorov: \")))\n",
    "x = np.random.randint(0, 100, (n,))\n",
    "y = np.random.randint(0, 100, (n,))\n",
    "\n",
    "closest_points, min_distance = find_closest_points(x, y)\n",
    "\n",
    "print(\"Наиболее близкие точки:\", closest_points)\n",
    "print(\"Минимальное расстояние:\", min_distance)"
   ]
  },
  {
   "cell_type": "code",
   "execution_count": 4,
   "metadata": {},
   "outputs": [
    {
     "name": "stdout",
     "output_type": "stream",
     "text": [
      "Периметр треугольника: 11.314\n",
      "Площадь треугольника: 0.0\n"
     ]
    }
   ],
   "source": [
    "#11 задание\n",
    "\n",
    "import math\n",
    "\n",
    "x1, y1 = 1.0, 2.0\n",
    "x2, y2 = 3.0, 4.0\n",
    "x3, y3 = 5.0, 6.0\n",
    "\n",
    "#вычисление длины сторон\n",
    "storona1 = math.sqrt((x2 - x1)**2 + (y2 - y1)**2)\n",
    "storona2 = math.sqrt((x3 - x2)**2 + (y3 - y2)**2)\n",
    "storona3 = math.sqrt((x1 - x3)**2 + (y1 - y3)**2)\n",
    "\n",
    "perimeter = storona1 + storona2 + storona3\n",
    "\n",
    "s = perimeter / 2\n",
    "\n",
    "ploshad = math.sqrt(s * (s - storona1) * (s - storona2) * (s - storona3))\n",
    "\n",
    "print(\"Периметр треугольника:\", round(perimeter,3))\n",
    "print(\"Площадь треугольника:\", round(ploshad,3))\n",
    "\n"
   ]
  },
  {
   "cell_type": "code",
   "execution_count": 5,
   "metadata": {},
   "outputs": [
    {
     "name": "stdout",
     "output_type": "stream",
     "text": [
      "result: 4.5\n"
     ]
    }
   ],
   "source": [
    "#12 задание\n",
    "a=int(input(\"enter a:\"))\n",
    "b=int(input(\"enter b:\"))\n",
    "c=int(input(\"enter c:\"))\n",
    "d=int(input(\"enter d:\"))\n",
    "e=int(input(\"enter e:\"))\n",
    "ost = pow(b,e)%c\n",
    "res = (a+(b*c))/((2*d)-e)+ost\n",
    "print(f\"result: {res}\")"
   ]
  },
  {
   "cell_type": "markdown",
   "metadata": {},
   "source": [
    "# Задания\n",
    "\n",
    "Выполните задания\n",
    "\n",
    "# 1. Числовые и строковые типы данных языка Python. Управляющие конструкции.\n",
    "\n",
    "## 1.1. Работа с числами. Базовые числовые типы int и float\n",
    "\n",
    "1. Значения переменных А и В ввести с клавиатуры и вывести на экран. После этого значения меняются местами, т.е. A нужно присвоить значение B, а B – значение A, и вновь значения переменных вывести на экран.\n",
    "\n",
    "\n",
    "2. Значение x вводится с клавиатуры. Вычислите $y=(x+1)^2\\cdot \\sqrt{x^3+1}$ Выведите на экран значения $x$ и $y$ с тремя знаками после запятой.\n",
    "\n",
    "3. Вычислите сумму цифр пятизначного числа.\n",
    "\n",
    "4. Для заданного трехзначного числа выведите число, у которого цифры идут в обратном порядке, например, для числа 123 ответ 321.\n",
    "\n",
    "5. Ввести координаты 2 точек: $(x_1,y_1)$ и $(x_2,y_2)$. Вычислите расстояние между этими точками.  Результат выведите с 5 знаками после запятой.\n",
    "\n",
    "6. Разработать программу вычисления по известному радиусу площади круга и длины окружности.\n",
    "\n",
    "7. Разработать программу по вычислению площади кольца по известным значениям его внешнего и внутреннего радиусов.\n",
    "\n",
    "8. Разработать программу вычисления радиуса круга и его площади по известной длине окружности.\n",
    "\n",
    "9. Разработать программу вычисления объема шара: а) по радиусу; б) по длине его экваториальной параллели. Объём шара рассчитывается по формуле $V=\\frac{4}{3}\\pi{r^3}$, где $r$ - радиус.\n",
    "\n",
    "10. Имеются два $n$–мерных вектора $x$ и $y$, которые задают координаты $n$ точек на плоскости (случайные целые числа). Найти наиболее близкие друг другу точки.\n",
    "\n",
    "11. Треугольник задан координатами своих вершин: $(x_1,y_1),(x_2,y_2),(x_3,y_3)$. Значения координат определите с помощью присваивания. Они могут быть нецелыми. Найти периметр и площадь треугольника.\n",
    "\n",
    "12. Пусть пользователь вводит 5 чисел: а, b, c, d, e. Реализуйте программу расчета выражения вида $res=\\frac{a+bc}{2d-e}+Ost[b^e/c]$, где $Ost$ - остаток от деления. Учесть невозможность деления на 0.\n",
    "\n",
    "\n",
    "## 1.2. Строки, функции и методы работы со строками\n",
    "\n",
    "1. Введите строку, состоящую из двух цифр. Преобразуйте ее в целое и вещественное число. Выведите полученные три значения (строку, целое число, вещественное число) на экран в одной строке через запятую, затем пропустите строку и вновь выведите значения по одному на строке. Перед каждым значением выведите его тип.\n",
    "\n",
    "2. Для строки 'Финансовый университет' двумя способами получить подстроку с 1-го по 4-й символы включительно.\n",
    "\n",
    "3. Составить строку из всех четных символов строки 'Финансовый университет'.\n",
    "\n",
    "4. Получить подстроку неизвестной заранее строки, содержащую половину символов строки и расположенную посередине строки.\n",
    "\n",
    "5. Коротко записать создание строки 'oneoneoneoneoneonetwotwotwo'\n",
    "\n",
    "6. Для введенной строки выведите (на отдельной строке):\n",
    "- второй символ этой строки;\n",
    "- предпоследний символ этой строки;\n",
    "- всю строку, кроме последних двух символов;\n",
    "- все символы с четными индексами (считая, что индексация начинается с 0, поэтому символы выводятся, начиная с первого);\n",
    "- все символы с нечетными индексами, то есть начиная со второго символа строки;\n",
    "- все символы в обратном порядке;\n",
    "- все символы строки через один в обратном порядке, начиная с последнего;\n",
    "- длину данной строки.\n",
    "\n",
    "7. Не используя метод count, для заданной строки выполните:\n",
    "- если символ * в данной строке отсутствует, выведите текст «нет символа»;\n",
    "- если символ * встречается в строке только один раз, выведите его индекс;\n",
    "- если символ * встречается два и более раз, выведите индекс его первого, второго и последнего вхождения, удалите первый и последний символ * из строки.\n",
    "\n",
    "8. Дана строка, состоящая из слов, разделенных пробелами. В этой строке:\n",
    "- удалите все лишние пробелы (в начале, в конце, между словами оставить ровно один пробел);\n",
    "- поменяйте регистр символов (строчные сделать прописными, прописные – строчными);\n",
    "- определите, сколько в ней слов.\n",
    "\n",
    "9. Строка содержит фамилию, имя и отчество, записанные через пробелы. Например «Иванов Иван Иванович». Для этой строки:\n",
    "- выведите информацию в виде:\n",
    "```\n",
    "Фамилия       Иванов\n",
    "Имя           Иван\n",
    "Отчество      Иванович\n",
    "```\n",
    "- получите строки вида «Иванов И.И.» и «И.И. Иванов».\n",
    "\n",
    "10. Напишите программу, которая осуществляет вывод кошки на экран. Примечание: кошка выглядят примерно так:\n",
    "```\n",
    "         /\\_/\\ \n",
    "         /@ @\\ \n",
    "        (~~0~~)\n",
    "\n",
    " ```\n",
    "\n",
    "11. Для двух произвольных строк провести сравнение на совпадение содержимого без учета регистра букв и начальных и конечных пробельных символов. Например, для двух строк ' HeLLO WOrlD' и 'hello WORLD ' такое сравнение должно возвращать True (содержание строк совпадает).\n",
    "\n",
    "12. По номеру года определите, является ли данный год високосным. (год является високосным, если его номер кратен 4, но не кратен 100, а также если он кратен 400).\n",
    "\n",
    "18. Даны точки $A=(1,1),B=(5,5),C=(1,4),D=(7,2)$. Найти точку пересечения отрезков $AB$ и $CD$."
   ]
  },
  {
   "cell_type": "code",
   "execution_count": 2,
   "metadata": {},
   "outputs": [
    {
     "name": "stdout",
     "output_type": "stream",
     "text": [
      "50\n"
     ]
    }
   ],
   "source": [
    "#1 задание\n",
    "str_a = '50'\n",
    "a = int(str_a)\n",
    "print(a)"
   ]
  },
  {
   "cell_type": "code",
   "execution_count": 10,
   "metadata": {},
   "outputs": [
    {
     "name": "stdout",
     "output_type": "stream",
     "text": [
      "Фина\n"
     ]
    }
   ],
   "source": [
    "#2 задание\n",
    "str_a = 'Финансовый университет'\n",
    "substring = str_a[0:4]\n",
    "print(substring)\n",
    "\n",
    "#for substring2 in str_a:\n",
    " #   print(substring2)"
   ]
  },
  {
   "cell_type": "code",
   "execution_count": 16,
   "metadata": {},
   "outputs": [
    {
     "name": "stdout",
     "output_type": "stream",
     "text": [
      "и\n",
      "а\n",
      "с\n",
      "в\n",
      "й\n",
      "у\n",
      "и\n",
      "е\n",
      "с\n",
      "т\n",
      "т\n"
     ]
    }
   ],
   "source": [
    "#3 задание\n",
    "str_a = 'Финансовый университет'\n",
    "for substring in str_a[1::2]:\n",
    "    print(substring)"
   ]
  },
  {
   "cell_type": "code",
   "execution_count": 18,
   "metadata": {},
   "outputs": [
    {
     "name": "stdout",
     "output_type": "stream",
     "text": [
      "wer\n"
     ]
    }
   ],
   "source": [
    "#4 задание\n",
    "str_a = input(\"Введите строку: \")\n",
    "length = len(str_a)\n",
    "\n",
    "start_index = length // 4  \n",
    "end_index = 3 * length // 4  \n",
    "\n",
    "middle_substring = str_a[start_index:end_index]\n",
    "\n",
    "print(middle_substring)\n"
   ]
  },
  {
   "cell_type": "code",
   "execution_count": 21,
   "metadata": {},
   "outputs": [
    {
     "name": "stdout",
     "output_type": "stream",
     "text": [
      "oneoneoneoneonetwotwotwo\n"
     ]
    }
   ],
   "source": [
    "str_1 = 'one'*5\n",
    "str_2 = 'two'*3\n",
    "res = str_1+ str_2\n",
    "print(res)"
   ]
  },
  {
   "cell_type": "code",
   "execution_count": 23,
   "metadata": {},
   "outputs": [
    {
     "name": "stdout",
     "output_type": "stream",
     "text": [
      "w\n",
      "t\n",
      "yrw\n",
      "qet\n",
      "wry\n",
      "ytrewq\n",
      "ytrewq\n",
      "6\n"
     ]
    }
   ],
   "source": [
    "#6 задание\n",
    "tr_a = input(\"Введите строку: \")\n",
    "vtoroySymvol = str_a[1]\n",
    "print(vtoroySymvol)\n",
    "PredPredposledniyElement = str_a[-2]\n",
    "print(PredPredposledniyElement)\n",
    "VseElementyKromeDvuh = str_a[::-2]\n",
    "print(VseElementyKromeDvuh)\n",
    "chetniyeIndexy = str_a[::2]\n",
    "print(chetniyeIndexy)\n",
    "nechetniyeIndexy = str_a[1::2]\n",
    "print(nechetniyeIndexy)\n",
    "obratniyPoryadok = str_a[::-1]\n",
    "print(obratniyPoryadok)\n",
    "obratnoCherezOdyn = str_a[-1::-1]\n",
    "print(obratnoCherezOdyn)\n",
    "dlynaStroki = len(str_a)\n",
    "print(dlynaStroki)"
   ]
  },
  {
   "cell_type": "code",
   "execution_count": 25,
   "metadata": {},
   "outputs": [
    {
     "name": "stdout",
     "output_type": "stream",
     "text": [
      "Index: 2\n",
      "Modified string: qwertqw*erty\n"
     ]
    }
   ],
   "source": [
    "#7 задание\n",
    "str_a = input(\"Введите строку: \")\n",
    "count = 0\n",
    "odynRaz = -1\n",
    "vtoroyRaz = -1\n",
    "lastRaz = -1\n",
    "if '*' not in str_a:\n",
    "    print(\"Символа нет в строке!\")\n",
    "else:\n",
    "    for i, char in enumerate(str_a):\n",
    "        if char == '*':\n",
    "            count += 1\n",
    "            if count == 1:\n",
    "                odynRaz = i\n",
    "                print(f\"Index: {odynRaz}\")\n",
    "            elif count == 2:\n",
    "                vtoroyRaz = i\n",
    "                lastRaz = i\n",
    "                print(f\"Index: {lastRaz}\")\n",
    "                print(f\"Index: {vtoroyRaz}\")\n",
    "\n",
    "modified_string = str_a[:odynRaz] + str_a[odynRaz + 1:lastRaz] + str_a[lastRaz + 1:]\n",
    "print(\"Modified string:\", modified_string)\n"
   ]
  },
  {
   "cell_type": "code",
   "execution_count": 27,
   "metadata": {},
   "outputs": [
    {
     "name": "stdout",
     "output_type": "stream",
     "text": [
      "Измененная строка: НОУТ ПАРА УНИВЕР\n",
      "количество слов: 3\n"
     ]
    }
   ],
   "source": [
    "#8 задание\n",
    "str_a = input(\"Введите строку с пробелами: \")\n",
    "slova = str_a.strip().split()\n",
    "neProbel = \"\"\n",
    "count = len(slova)\n",
    "for i, slova in enumerate(   slova):\n",
    "    if i > 0:\n",
    "        neProbel += \" \"  \n",
    "    neProbel += slova.swapcase()\n",
    "\n",
    "print(f\"Измененная строка: {neProbel}\")\n",
    "print(f\"количество слов: {count}\")  "
   ]
  },
  {
   "cell_type": "code",
   "execution_count": 29,
   "metadata": {},
   "outputs": [
    {
     "name": "stdout",
     "output_type": "stream",
     "text": [
      "Формат Фамилия.Имя: Иванов Иван\n",
      "Формат Фамилия/инициалы: Иванов И.И.\n"
     ]
    }
   ],
   "source": [
    "#9 задание\n",
    "FIO = input(\"Введите ФИО: \")\n",
    "chastyFIO = FIO.split()\n",
    "if len(chastyFIO)>=3:\n",
    "    familiya = chastyFIO[0]\n",
    "    imya = chastyFIO[1]\n",
    "    otchestvo = chastyFIO[2]\n",
    "\n",
    "    full_name_format1 = f\"{familiya} {imya}\"\n",
    "\n",
    "   \n",
    "    initials = f\"{imya[0]}.{otchestvo[0]}.\"\n",
    "    full_name_format2 = f\"{familiya} {initials}\"\n",
    "\n",
    "    print(f\"Формат Фамилия.Имя: {full_name_format1}\")\n",
    "    print(f\"Формат Фамилия/инициалы: {full_name_format2}\")\n",
    "else:\n",
    "    print(\"НЕВЕРНЫЙ ФОРМАТ!\")"
   ]
  },
  {
   "cell_type": "code",
   "execution_count": 30,
   "metadata": {},
   "outputs": [
    {
     "name": "stdout",
     "output_type": "stream",
     "text": [
      "\n",
      "        /\\_/\\ \n",
      "         /@ @\\ \n",
      "        (~~0~~)\n",
      "\n"
     ]
    }
   ],
   "source": [
    "#10 задание\n",
    "cat = \"\"\"\n",
    "        /\\_/\\ \n",
    "         /@ @\\ \n",
    "        (~~0~~)\n",
    "\"\"\"\n",
    "print(cat)"
   ]
  },
  {
   "cell_type": "code",
   "execution_count": 32,
   "metadata": {},
   "outputs": [
    {
     "name": "stdout",
     "output_type": "stream",
     "text": [
      "Не совпали\n"
     ]
    }
   ],
   "source": [
    "#11 задание\n",
    "string1 = input(\"Введите первую строку \")\n",
    "string2 = input(\"ВВедите вторую строку: \")\n",
    "\n",
    "\n",
    "string1 = string1.strip().lower()\n",
    "string2 = string2.strip().lower()\n",
    "\n",
    "\n",
    "if string1 == string2:\n",
    "    print(\"Совпали\")\n",
    "else:\n",
    "    print(\"Не совпали\")"
   ]
  },
  {
   "cell_type": "code",
   "execution_count": null,
   "metadata": {},
   "outputs": [],
   "source": [
    "#12 задание\n",
    "god = int(input(\"Введите год:\"))\n",
    "\n",
    "if (god%4==0 and god%100!=0) or (god%400==0):\n",
    "    print(\"Високосный\")\n",
    "else:\n",
    "    print(\"невисокосный\")"
   ]
  }
 ],
 "metadata": {
  "kernelspec": {
   "display_name": "Python 3 (ipykernel)",
   "language": "python",
   "name": "python3"
  },
  "language_info": {
   "codemirror_mode": {
    "name": "ipython",
    "version": 3
   },
   "file_extension": ".py",
   "mimetype": "text/x-python",
   "name": "python",
   "nbconvert_exporter": "python",
   "pygments_lexer": "ipython3",
   "version": "0.0.0"
  },
  "toc": {
   "base_numbering": 1,
   "nav_menu": {},
   "number_sections": true,
   "sideBar": true,
   "skip_h1_title": false,
   "title_cell": "Table of Contents",
   "title_sidebar": "Contents",
   "toc_cell": true,
   "toc_position": {},
   "toc_section_display": true,
   "toc_window_display": false
  },
  "varInspector": {
   "cols": {
    "lenName": 16,
    "lenType": 16,
    "lenVar": 40
   },
   "kernels_config": {
    "python": {
     "delete_cmd_postfix": "",
     "delete_cmd_prefix": "del ",
     "library": "var_list.py",
     "varRefreshCmd": "print(var_dic_list())"
    },
    "r": {
     "delete_cmd_postfix": ") ",
     "delete_cmd_prefix": "rm(",
     "library": "var_list.r",
     "varRefreshCmd": "cat(var_dic_list()) "
    }
   },
   "types_to_exclude": [
    "module",
    "function",
    "builtin_function_or_method",
    "instance",
    "_Feature"
   ],
   "window_display": false
  }
 },
 "nbformat": 4,
 "nbformat_minor": 4
}
